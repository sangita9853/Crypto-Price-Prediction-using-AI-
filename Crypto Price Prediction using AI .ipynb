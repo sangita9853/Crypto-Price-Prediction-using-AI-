{
 "cells": [
  {
   "cell_type": "markdown",
   "metadata": {},
   "source": [
    "# Importing all the libraries"
   ]
  },
  {
   "cell_type": "code",
   "execution_count": 2,
   "metadata": {},
   "outputs": [],
   "source": [
    "import numpy as np \n",
    "import pandas as pd\n",
    "import matplotlib.pyplot as plt\n",
    "import seaborn as sns\n",
    "from sklearn.linear_model import LinearRegression\n",
    "from sklearn.model_selection import train_test_split"
   ]
  },
  {
   "cell_type": "markdown",
   "metadata": {},
   "source": [
    "# Loading the Data Set"
   ]
  },
  {
   "cell_type": "code",
   "execution_count": 6,
   "metadata": {},
   "outputs": [
    {
     "data": {
      "text/html": [
       "<div>\n",
       "<style scoped>\n",
       "    .dataframe tbody tr th:only-of-type {\n",
       "        vertical-align: middle;\n",
       "    }\n",
       "\n",
       "    .dataframe tbody tr th {\n",
       "        vertical-align: top;\n",
       "    }\n",
       "\n",
       "    .dataframe thead th {\n",
       "        text-align: right;\n",
       "    }\n",
       "</style>\n",
       "<table border=\"1\" class=\"dataframe\">\n",
       "  <thead>\n",
       "    <tr style=\"text-align: right;\">\n",
       "      <th></th>\n",
       "      <th>Unix Timestamp</th>\n",
       "      <th>Date</th>\n",
       "      <th>Symbol</th>\n",
       "      <th>Open</th>\n",
       "      <th>High</th>\n",
       "      <th>Low</th>\n",
       "      <th>Close</th>\n",
       "      <th>Volume</th>\n",
       "    </tr>\n",
       "  </thead>\n",
       "  <tbody>\n",
       "    <tr>\n",
       "      <td>0</td>\n",
       "      <td>1586995200000</td>\n",
       "      <td>2020-04-16 00:00:00</td>\n",
       "      <td>ETHUSD</td>\n",
       "      <td>152.94</td>\n",
       "      <td>152.94</td>\n",
       "      <td>150.39</td>\n",
       "      <td>150.39</td>\n",
       "      <td>650.188125</td>\n",
       "    </tr>\n",
       "    <tr>\n",
       "      <td>1</td>\n",
       "      <td>1586991600000</td>\n",
       "      <td>2020-04-15 23:00:00</td>\n",
       "      <td>ETHUSD</td>\n",
       "      <td>155.81</td>\n",
       "      <td>155.81</td>\n",
       "      <td>151.39</td>\n",
       "      <td>152.94</td>\n",
       "      <td>4277.567299</td>\n",
       "    </tr>\n",
       "    <tr>\n",
       "      <td>2</td>\n",
       "      <td>1586988000000</td>\n",
       "      <td>2020-04-15 22:00:00</td>\n",
       "      <td>ETHUSD</td>\n",
       "      <td>157.18</td>\n",
       "      <td>157.30</td>\n",
       "      <td>155.32</td>\n",
       "      <td>155.81</td>\n",
       "      <td>106.337279</td>\n",
       "    </tr>\n",
       "    <tr>\n",
       "      <td>3</td>\n",
       "      <td>1586984400000</td>\n",
       "      <td>2020-04-15 21:00:00</td>\n",
       "      <td>ETHUSD</td>\n",
       "      <td>158.04</td>\n",
       "      <td>158.31</td>\n",
       "      <td>157.16</td>\n",
       "      <td>157.18</td>\n",
       "      <td>55.244131</td>\n",
       "    </tr>\n",
       "    <tr>\n",
       "      <td>4</td>\n",
       "      <td>1586980800000</td>\n",
       "      <td>2020-04-15 20:00:00</td>\n",
       "      <td>ETHUSD</td>\n",
       "      <td>157.10</td>\n",
       "      <td>158.10</td>\n",
       "      <td>156.87</td>\n",
       "      <td>158.04</td>\n",
       "      <td>144.262622</td>\n",
       "    </tr>\n",
       "    <tr>\n",
       "      <td>...</td>\n",
       "      <td>...</td>\n",
       "      <td>...</td>\n",
       "      <td>...</td>\n",
       "      <td>...</td>\n",
       "      <td>...</td>\n",
       "      <td>...</td>\n",
       "      <td>...</td>\n",
       "      <td>...</td>\n",
       "    </tr>\n",
       "    <tr>\n",
       "      <td>34492</td>\n",
       "      <td>1462813200</td>\n",
       "      <td>2016-05-09 17:00:00</td>\n",
       "      <td>ETHUSD</td>\n",
       "      <td>9.83</td>\n",
       "      <td>9.83</td>\n",
       "      <td>9.48</td>\n",
       "      <td>9.49</td>\n",
       "      <td>329.553213</td>\n",
       "    </tr>\n",
       "    <tr>\n",
       "      <td>34493</td>\n",
       "      <td>1462809600</td>\n",
       "      <td>2016-05-09 16:00:00</td>\n",
       "      <td>ETHUSD</td>\n",
       "      <td>9.99</td>\n",
       "      <td>9.99</td>\n",
       "      <td>9.79</td>\n",
       "      <td>9.83</td>\n",
       "      <td>62.379450</td>\n",
       "    </tr>\n",
       "    <tr>\n",
       "      <td>34494</td>\n",
       "      <td>1462806000</td>\n",
       "      <td>2016-05-09 15:00:00</td>\n",
       "      <td>ETHUSD</td>\n",
       "      <td>10.00</td>\n",
       "      <td>10.00</td>\n",
       "      <td>9.99</td>\n",
       "      <td>9.99</td>\n",
       "      <td>10.973567</td>\n",
       "    </tr>\n",
       "    <tr>\n",
       "      <td>34495</td>\n",
       "      <td>1462802400</td>\n",
       "      <td>2016-05-09 14:00:00</td>\n",
       "      <td>ETHUSD</td>\n",
       "      <td>9.55</td>\n",
       "      <td>10.00</td>\n",
       "      <td>9.55</td>\n",
       "      <td>10.00</td>\n",
       "      <td>235.774075</td>\n",
       "    </tr>\n",
       "    <tr>\n",
       "      <td>34496</td>\n",
       "      <td>1462798800</td>\n",
       "      <td>2016-05-09 13:00:00</td>\n",
       "      <td>ETHUSD</td>\n",
       "      <td>0.00</td>\n",
       "      <td>12.00</td>\n",
       "      <td>0.00</td>\n",
       "      <td>9.55</td>\n",
       "      <td>432.562115</td>\n",
       "    </tr>\n",
       "  </tbody>\n",
       "</table>\n",
       "<p>34497 rows × 8 columns</p>\n",
       "</div>"
      ],
      "text/plain": [
       "       Unix Timestamp                 Date  Symbol    Open    High     Low  \\\n",
       "0       1586995200000  2020-04-16 00:00:00  ETHUSD  152.94  152.94  150.39   \n",
       "1       1586991600000  2020-04-15 23:00:00  ETHUSD  155.81  155.81  151.39   \n",
       "2       1586988000000  2020-04-15 22:00:00  ETHUSD  157.18  157.30  155.32   \n",
       "3       1586984400000  2020-04-15 21:00:00  ETHUSD  158.04  158.31  157.16   \n",
       "4       1586980800000  2020-04-15 20:00:00  ETHUSD  157.10  158.10  156.87   \n",
       "...               ...                  ...     ...     ...     ...     ...   \n",
       "34492      1462813200  2016-05-09 17:00:00  ETHUSD    9.83    9.83    9.48   \n",
       "34493      1462809600  2016-05-09 16:00:00  ETHUSD    9.99    9.99    9.79   \n",
       "34494      1462806000  2016-05-09 15:00:00  ETHUSD   10.00   10.00    9.99   \n",
       "34495      1462802400  2016-05-09 14:00:00  ETHUSD    9.55   10.00    9.55   \n",
       "34496      1462798800  2016-05-09 13:00:00  ETHUSD    0.00   12.00    0.00   \n",
       "\n",
       "        Close       Volume  \n",
       "0      150.39   650.188125  \n",
       "1      152.94  4277.567299  \n",
       "2      155.81   106.337279  \n",
       "3      157.18    55.244131  \n",
       "4      158.04   144.262622  \n",
       "...       ...          ...  \n",
       "34492    9.49   329.553213  \n",
       "34493    9.83    62.379450  \n",
       "34494    9.99    10.973567  \n",
       "34495   10.00   235.774075  \n",
       "34496    9.55   432.562115  \n",
       "\n",
       "[34497 rows x 8 columns]"
      ]
     },
     "execution_count": 6,
     "metadata": {},
     "output_type": "execute_result"
    }
   ],
   "source": [
    "df= pd.read_csv('ETH_1H.csv')\n",
    "df"
   ]
  },
  {
   "cell_type": "markdown",
   "metadata": {},
   "source": [
    "# Data Preprocessing and Logic Implementation."
   ]
  },
  {
   "cell_type": "code",
   "execution_count": 7,
   "metadata": {},
   "outputs": [
    {
     "data": {
      "text/html": [
       "<div>\n",
       "<style scoped>\n",
       "    .dataframe tbody tr th:only-of-type {\n",
       "        vertical-align: middle;\n",
       "    }\n",
       "\n",
       "    .dataframe tbody tr th {\n",
       "        vertical-align: top;\n",
       "    }\n",
       "\n",
       "    .dataframe thead th {\n",
       "        text-align: right;\n",
       "    }\n",
       "</style>\n",
       "<table border=\"1\" class=\"dataframe\">\n",
       "  <thead>\n",
       "    <tr style=\"text-align: right;\">\n",
       "      <th></th>\n",
       "      <th>Unix Timestamp</th>\n",
       "      <th>Date</th>\n",
       "      <th>Symbol</th>\n",
       "      <th>Open</th>\n",
       "      <th>High</th>\n",
       "      <th>Low</th>\n",
       "      <th>Close</th>\n",
       "      <th>Volume</th>\n",
       "      <th>Prediction</th>\n",
       "    </tr>\n",
       "  </thead>\n",
       "  <tbody>\n",
       "    <tr>\n",
       "      <td>0</td>\n",
       "      <td>1586995200000</td>\n",
       "      <td>2020-04-16 00:00:00</td>\n",
       "      <td>ETHUSD</td>\n",
       "      <td>152.94</td>\n",
       "      <td>152.94</td>\n",
       "      <td>150.39</td>\n",
       "      <td>150.39</td>\n",
       "      <td>650.188125</td>\n",
       "      <td>157.69</td>\n",
       "    </tr>\n",
       "    <tr>\n",
       "      <td>1</td>\n",
       "      <td>1586991600000</td>\n",
       "      <td>2020-04-15 23:00:00</td>\n",
       "      <td>ETHUSD</td>\n",
       "      <td>155.81</td>\n",
       "      <td>155.81</td>\n",
       "      <td>151.39</td>\n",
       "      <td>152.94</td>\n",
       "      <td>4277.567299</td>\n",
       "      <td>159.05</td>\n",
       "    </tr>\n",
       "    <tr>\n",
       "      <td>2</td>\n",
       "      <td>1586988000000</td>\n",
       "      <td>2020-04-15 22:00:00</td>\n",
       "      <td>ETHUSD</td>\n",
       "      <td>157.18</td>\n",
       "      <td>157.30</td>\n",
       "      <td>155.32</td>\n",
       "      <td>155.81</td>\n",
       "      <td>106.337279</td>\n",
       "      <td>158.77</td>\n",
       "    </tr>\n",
       "    <tr>\n",
       "      <td>3</td>\n",
       "      <td>1586984400000</td>\n",
       "      <td>2020-04-15 21:00:00</td>\n",
       "      <td>ETHUSD</td>\n",
       "      <td>158.04</td>\n",
       "      <td>158.31</td>\n",
       "      <td>157.16</td>\n",
       "      <td>157.18</td>\n",
       "      <td>55.244131</td>\n",
       "      <td>159.84</td>\n",
       "    </tr>\n",
       "    <tr>\n",
       "      <td>4</td>\n",
       "      <td>1586980800000</td>\n",
       "      <td>2020-04-15 20:00:00</td>\n",
       "      <td>ETHUSD</td>\n",
       "      <td>157.10</td>\n",
       "      <td>158.10</td>\n",
       "      <td>156.87</td>\n",
       "      <td>158.04</td>\n",
       "      <td>144.262622</td>\n",
       "      <td>160.21</td>\n",
       "    </tr>\n",
       "    <tr>\n",
       "      <td>5</td>\n",
       "      <td>1586977200000</td>\n",
       "      <td>2020-04-15 19:00:00</td>\n",
       "      <td>ETHUSD</td>\n",
       "      <td>157.78</td>\n",
       "      <td>157.84</td>\n",
       "      <td>157.10</td>\n",
       "      <td>157.10</td>\n",
       "      <td>329.356201</td>\n",
       "      <td>160.91</td>\n",
       "    </tr>\n",
       "    <tr>\n",
       "      <td>6</td>\n",
       "      <td>1586973600000</td>\n",
       "      <td>2020-04-15 18:00:00</td>\n",
       "      <td>ETHUSD</td>\n",
       "      <td>157.48</td>\n",
       "      <td>158.20</td>\n",
       "      <td>157.48</td>\n",
       "      <td>157.78</td>\n",
       "      <td>520.137463</td>\n",
       "      <td>159.97</td>\n",
       "    </tr>\n",
       "    <tr>\n",
       "      <td>7</td>\n",
       "      <td>1586970000000</td>\n",
       "      <td>2020-04-15 17:00:00</td>\n",
       "      <td>ETHUSD</td>\n",
       "      <td>157.12</td>\n",
       "      <td>157.78</td>\n",
       "      <td>156.90</td>\n",
       "      <td>157.48</td>\n",
       "      <td>156.552221</td>\n",
       "      <td>160.62</td>\n",
       "    </tr>\n",
       "    <tr>\n",
       "      <td>8</td>\n",
       "      <td>1586966400000</td>\n",
       "      <td>2020-04-15 16:00:00</td>\n",
       "      <td>ETHUSD</td>\n",
       "      <td>155.81</td>\n",
       "      <td>157.52</td>\n",
       "      <td>155.74</td>\n",
       "      <td>157.12</td>\n",
       "      <td>430.083035</td>\n",
       "      <td>160.27</td>\n",
       "    </tr>\n",
       "    <tr>\n",
       "      <td>9</td>\n",
       "      <td>1586962800000</td>\n",
       "      <td>2020-04-15 15:00:00</td>\n",
       "      <td>ETHUSD</td>\n",
       "      <td>157.12</td>\n",
       "      <td>157.15</td>\n",
       "      <td>155.81</td>\n",
       "      <td>155.81</td>\n",
       "      <td>303.839541</td>\n",
       "      <td>158.50</td>\n",
       "    </tr>\n",
       "    <tr>\n",
       "      <td>10</td>\n",
       "      <td>1586959200000</td>\n",
       "      <td>2020-04-15 14:00:00</td>\n",
       "      <td>ETHUSD</td>\n",
       "      <td>156.57</td>\n",
       "      <td>158.09</td>\n",
       "      <td>156.57</td>\n",
       "      <td>157.12</td>\n",
       "      <td>747.870220</td>\n",
       "      <td>157.12</td>\n",
       "    </tr>\n",
       "    <tr>\n",
       "      <td>11</td>\n",
       "      <td>1586955600000</td>\n",
       "      <td>2020-04-15 13:00:00</td>\n",
       "      <td>ETHUSD</td>\n",
       "      <td>156.46</td>\n",
       "      <td>157.67</td>\n",
       "      <td>155.50</td>\n",
       "      <td>156.57</td>\n",
       "      <td>320.060172</td>\n",
       "      <td>158.61</td>\n",
       "    </tr>\n",
       "    <tr>\n",
       "      <td>12</td>\n",
       "      <td>1586952000000</td>\n",
       "      <td>2020-04-15 12:00:00</td>\n",
       "      <td>ETHUSD</td>\n",
       "      <td>157.45</td>\n",
       "      <td>157.76</td>\n",
       "      <td>155.58</td>\n",
       "      <td>156.46</td>\n",
       "      <td>1922.313877</td>\n",
       "      <td>159.92</td>\n",
       "    </tr>\n",
       "    <tr>\n",
       "      <td>13</td>\n",
       "      <td>1586948400000</td>\n",
       "      <td>2020-04-15 11:00:00</td>\n",
       "      <td>ETHUSD</td>\n",
       "      <td>157.69</td>\n",
       "      <td>158.26</td>\n",
       "      <td>157.09</td>\n",
       "      <td>157.45</td>\n",
       "      <td>993.970288</td>\n",
       "      <td>159.12</td>\n",
       "    </tr>\n",
       "    <tr>\n",
       "      <td>14</td>\n",
       "      <td>1586944800000</td>\n",
       "      <td>2020-04-15 10:00:00</td>\n",
       "      <td>ETHUSD</td>\n",
       "      <td>159.05</td>\n",
       "      <td>159.76</td>\n",
       "      <td>157.25</td>\n",
       "      <td>157.69</td>\n",
       "      <td>866.472222</td>\n",
       "      <td>159.36</td>\n",
       "    </tr>\n",
       "    <tr>\n",
       "      <td>15</td>\n",
       "      <td>1586941200000</td>\n",
       "      <td>2020-04-15 09:00:00</td>\n",
       "      <td>ETHUSD</td>\n",
       "      <td>158.77</td>\n",
       "      <td>159.41</td>\n",
       "      <td>157.88</td>\n",
       "      <td>159.05</td>\n",
       "      <td>108.160041</td>\n",
       "      <td>160.70</td>\n",
       "    </tr>\n",
       "    <tr>\n",
       "      <td>16</td>\n",
       "      <td>1586937600000</td>\n",
       "      <td>2020-04-15 08:00:00</td>\n",
       "      <td>ETHUSD</td>\n",
       "      <td>159.84</td>\n",
       "      <td>160.02</td>\n",
       "      <td>158.44</td>\n",
       "      <td>158.77</td>\n",
       "      <td>96.255414</td>\n",
       "      <td>160.63</td>\n",
       "    </tr>\n",
       "    <tr>\n",
       "      <td>17</td>\n",
       "      <td>1586934000000</td>\n",
       "      <td>2020-04-15 07:00:00</td>\n",
       "      <td>ETHUSD</td>\n",
       "      <td>160.21</td>\n",
       "      <td>160.21</td>\n",
       "      <td>159.56</td>\n",
       "      <td>159.84</td>\n",
       "      <td>57.714281</td>\n",
       "      <td>159.84</td>\n",
       "    </tr>\n",
       "    <tr>\n",
       "      <td>18</td>\n",
       "      <td>1586930400000</td>\n",
       "      <td>2020-04-15 06:00:00</td>\n",
       "      <td>ETHUSD</td>\n",
       "      <td>160.91</td>\n",
       "      <td>161.52</td>\n",
       "      <td>160.07</td>\n",
       "      <td>160.21</td>\n",
       "      <td>113.101882</td>\n",
       "      <td>161.72</td>\n",
       "    </tr>\n",
       "    <tr>\n",
       "      <td>19</td>\n",
       "      <td>1586926800000</td>\n",
       "      <td>2020-04-15 05:00:00</td>\n",
       "      <td>ETHUSD</td>\n",
       "      <td>159.97</td>\n",
       "      <td>160.91</td>\n",
       "      <td>159.89</td>\n",
       "      <td>160.91</td>\n",
       "      <td>72.618334</td>\n",
       "      <td>160.17</td>\n",
       "    </tr>\n",
       "  </tbody>\n",
       "</table>\n",
       "</div>"
      ],
      "text/plain": [
       "    Unix Timestamp                 Date  Symbol    Open    High     Low  \\\n",
       "0    1586995200000  2020-04-16 00:00:00  ETHUSD  152.94  152.94  150.39   \n",
       "1    1586991600000  2020-04-15 23:00:00  ETHUSD  155.81  155.81  151.39   \n",
       "2    1586988000000  2020-04-15 22:00:00  ETHUSD  157.18  157.30  155.32   \n",
       "3    1586984400000  2020-04-15 21:00:00  ETHUSD  158.04  158.31  157.16   \n",
       "4    1586980800000  2020-04-15 20:00:00  ETHUSD  157.10  158.10  156.87   \n",
       "5    1586977200000  2020-04-15 19:00:00  ETHUSD  157.78  157.84  157.10   \n",
       "6    1586973600000  2020-04-15 18:00:00  ETHUSD  157.48  158.20  157.48   \n",
       "7    1586970000000  2020-04-15 17:00:00  ETHUSD  157.12  157.78  156.90   \n",
       "8    1586966400000  2020-04-15 16:00:00  ETHUSD  155.81  157.52  155.74   \n",
       "9    1586962800000  2020-04-15 15:00:00  ETHUSD  157.12  157.15  155.81   \n",
       "10   1586959200000  2020-04-15 14:00:00  ETHUSD  156.57  158.09  156.57   \n",
       "11   1586955600000  2020-04-15 13:00:00  ETHUSD  156.46  157.67  155.50   \n",
       "12   1586952000000  2020-04-15 12:00:00  ETHUSD  157.45  157.76  155.58   \n",
       "13   1586948400000  2020-04-15 11:00:00  ETHUSD  157.69  158.26  157.09   \n",
       "14   1586944800000  2020-04-15 10:00:00  ETHUSD  159.05  159.76  157.25   \n",
       "15   1586941200000  2020-04-15 09:00:00  ETHUSD  158.77  159.41  157.88   \n",
       "16   1586937600000  2020-04-15 08:00:00  ETHUSD  159.84  160.02  158.44   \n",
       "17   1586934000000  2020-04-15 07:00:00  ETHUSD  160.21  160.21  159.56   \n",
       "18   1586930400000  2020-04-15 06:00:00  ETHUSD  160.91  161.52  160.07   \n",
       "19   1586926800000  2020-04-15 05:00:00  ETHUSD  159.97  160.91  159.89   \n",
       "\n",
       "     Close       Volume  Prediction  \n",
       "0   150.39   650.188125      157.69  \n",
       "1   152.94  4277.567299      159.05  \n",
       "2   155.81   106.337279      158.77  \n",
       "3   157.18    55.244131      159.84  \n",
       "4   158.04   144.262622      160.21  \n",
       "5   157.10   329.356201      160.91  \n",
       "6   157.78   520.137463      159.97  \n",
       "7   157.48   156.552221      160.62  \n",
       "8   157.12   430.083035      160.27  \n",
       "9   155.81   303.839541      158.50  \n",
       "10  157.12   747.870220      157.12  \n",
       "11  156.57   320.060172      158.61  \n",
       "12  156.46  1922.313877      159.92  \n",
       "13  157.45   993.970288      159.12  \n",
       "14  157.69   866.472222      159.36  \n",
       "15  159.05   108.160041      160.70  \n",
       "16  158.77    96.255414      160.63  \n",
       "17  159.84    57.714281      159.84  \n",
       "18  160.21   113.101882      161.72  \n",
       "19  160.91    72.618334      160.17  "
      ]
     },
     "execution_count": 7,
     "metadata": {},
     "output_type": "execute_result"
    }
   ],
   "source": [
    "projection = 14    # variable for number of days to predict for future.\n",
    "# create a new column named prediction \n",
    "\n",
    "df['Prediction'] = df [['Close']].shift(-projection)\n",
    "df.head(20)"
   ]
  },
  {
   "cell_type": "code",
   "execution_count": 8,
   "metadata": {},
   "outputs": [
    {
     "data": {
      "text/html": [
       "<div>\n",
       "<style scoped>\n",
       "    .dataframe tbody tr th:only-of-type {\n",
       "        vertical-align: middle;\n",
       "    }\n",
       "\n",
       "    .dataframe tbody tr th {\n",
       "        vertical-align: top;\n",
       "    }\n",
       "\n",
       "    .dataframe thead th {\n",
       "        text-align: right;\n",
       "    }\n",
       "</style>\n",
       "<table border=\"1\" class=\"dataframe\">\n",
       "  <thead>\n",
       "    <tr style=\"text-align: right;\">\n",
       "      <th></th>\n",
       "      <th>Unix Timestamp</th>\n",
       "      <th>Date</th>\n",
       "      <th>Symbol</th>\n",
       "      <th>Open</th>\n",
       "      <th>High</th>\n",
       "      <th>Low</th>\n",
       "      <th>Close</th>\n",
       "      <th>Volume</th>\n",
       "      <th>Prediction</th>\n",
       "    </tr>\n",
       "  </thead>\n",
       "  <tbody>\n",
       "    <tr>\n",
       "      <td>34492</td>\n",
       "      <td>1462813200</td>\n",
       "      <td>2016-05-09 17:00:00</td>\n",
       "      <td>ETHUSD</td>\n",
       "      <td>9.83</td>\n",
       "      <td>9.83</td>\n",
       "      <td>9.48</td>\n",
       "      <td>9.49</td>\n",
       "      <td>329.553213</td>\n",
       "      <td>NaN</td>\n",
       "    </tr>\n",
       "    <tr>\n",
       "      <td>34493</td>\n",
       "      <td>1462809600</td>\n",
       "      <td>2016-05-09 16:00:00</td>\n",
       "      <td>ETHUSD</td>\n",
       "      <td>9.99</td>\n",
       "      <td>9.99</td>\n",
       "      <td>9.79</td>\n",
       "      <td>9.83</td>\n",
       "      <td>62.379450</td>\n",
       "      <td>NaN</td>\n",
       "    </tr>\n",
       "    <tr>\n",
       "      <td>34494</td>\n",
       "      <td>1462806000</td>\n",
       "      <td>2016-05-09 15:00:00</td>\n",
       "      <td>ETHUSD</td>\n",
       "      <td>10.00</td>\n",
       "      <td>10.00</td>\n",
       "      <td>9.99</td>\n",
       "      <td>9.99</td>\n",
       "      <td>10.973567</td>\n",
       "      <td>NaN</td>\n",
       "    </tr>\n",
       "    <tr>\n",
       "      <td>34495</td>\n",
       "      <td>1462802400</td>\n",
       "      <td>2016-05-09 14:00:00</td>\n",
       "      <td>ETHUSD</td>\n",
       "      <td>9.55</td>\n",
       "      <td>10.00</td>\n",
       "      <td>9.55</td>\n",
       "      <td>10.00</td>\n",
       "      <td>235.774075</td>\n",
       "      <td>NaN</td>\n",
       "    </tr>\n",
       "    <tr>\n",
       "      <td>34496</td>\n",
       "      <td>1462798800</td>\n",
       "      <td>2016-05-09 13:00:00</td>\n",
       "      <td>ETHUSD</td>\n",
       "      <td>0.00</td>\n",
       "      <td>12.00</td>\n",
       "      <td>0.00</td>\n",
       "      <td>9.55</td>\n",
       "      <td>432.562115</td>\n",
       "      <td>NaN</td>\n",
       "    </tr>\n",
       "  </tbody>\n",
       "</table>\n",
       "</div>"
      ],
      "text/plain": [
       "       Unix Timestamp                 Date  Symbol   Open   High   Low  Close  \\\n",
       "34492      1462813200  2016-05-09 17:00:00  ETHUSD   9.83   9.83  9.48   9.49   \n",
       "34493      1462809600  2016-05-09 16:00:00  ETHUSD   9.99   9.99  9.79   9.83   \n",
       "34494      1462806000  2016-05-09 15:00:00  ETHUSD  10.00  10.00  9.99   9.99   \n",
       "34495      1462802400  2016-05-09 14:00:00  ETHUSD   9.55  10.00  9.55  10.00   \n",
       "34496      1462798800  2016-05-09 13:00:00  ETHUSD   0.00  12.00  0.00   9.55   \n",
       "\n",
       "           Volume  Prediction  \n",
       "34492  329.553213         NaN  \n",
       "34493   62.379450         NaN  \n",
       "34494   10.973567         NaN  \n",
       "34495  235.774075         NaN  \n",
       "34496  432.562115         NaN  "
      ]
     },
     "execution_count": 8,
     "metadata": {},
     "output_type": "execute_result"
    }
   ],
   "source": [
    "df.tail()"
   ]
  },
  {
   "cell_type": "code",
   "execution_count": 9,
   "metadata": {},
   "outputs": [
    {
     "data": {
      "text/plain": [
       "<matplotlib.axes._subplots.AxesSubplot at 0x1cb3ab92dc8>"
      ]
     },
     "execution_count": 9,
     "metadata": {},
     "output_type": "execute_result"
    },
    {
     "data": {
      "image/png": "[encoded data removed]",
      "text/plain": [
       "<Figure size 432x288 with 2 Axes>"
      ]
     },
     "metadata": {
      "needs_background": "light"
     },
     "output_type": "display_data"
    }
   ],
   "source": [
    "sns.heatmap(df.corr(), annot = True,cmap= 'coolwarm')"
   ]
  },
  {
   "cell_type": "code",
   "execution_count": 10,
   "metadata": {},
   "outputs": [
    {
     "name": "stdout",
     "output_type": "stream",
     "text": [
      "[[150.39]\n",
      " [152.94]\n",
      " [155.81]\n",
      " ...\n",
      " [  9.36]\n",
      " [  9.36]\n",
      " [  9.36]]\n"
     ]
    }
   ],
   "source": [
    "#create independent dataset (x)\n",
    "x = np.array(df[['Close']]) \n",
    "x=x[:-projection]\n",
    "print(x)"
   ]
  },
  {
   "cell_type": "code",
   "execution_count": 11,
   "metadata": {},
   "outputs": [
    {
     "name": "stdout",
     "output_type": "stream",
     "text": [
      "[157.69 159.05 158.77 ...   9.99  10.     9.55]\n"
     ]
    }
   ],
   "source": [
    "y= df['Prediction'].values\n",
    "y= y[:-projection]\n",
    "print(y)"
   ]
  },
  {
   "cell_type": "markdown",
   "metadata": {},
   "source": [
    "# Splitting and visualizing Data"
   ]
  },
  {
   "cell_type": "code",
   "execution_count": 12,
   "metadata": {},
   "outputs": [],
   "source": [
    "x_train, x_test, y_train, y_test = train_test_split(x,y, test_size = .20)"
   ]
  },
  {
   "cell_type": "code",
   "execution_count": 13,
   "metadata": {},
   "outputs": [
    {
     "data": {
      "image/png": "[encoded data removed]",
      "text/plain": [
       "<Figure size 432x288 with 1 Axes>"
      ]
     },
     "metadata": {
      "needs_background": "light"
     },
     "output_type": "display_data"
    }
   ],
   "source": [
    "plt.scatter(x_test, y_test, color = \"red\")\n",
    "plt.title(\"Etherium price vs Predicted Price after 14 days (Training set)\")\n",
    "plt.xlabel(\"Etherium Price\")\n",
    "plt.ylabel(\"Prediction Price\")\n",
    "plt.show()"
   ]
  },
  {
   "cell_type": "markdown",
   "metadata": {},
   "source": [
    "# Model Building & testing\n"
   ]
  },
  {
   "cell_type": "markdown",
   "metadata": {},
   "source": [
    "## Linear regression\n",
    "\n",
    "     Linear Regression is a machine learning algorithm based on supervised learning. It performs a regression task. Regression models a target prediction value based on independent variables. It is mostly used for finding out the relationship between variables and forecasting. Different regression models differ based on – the kind of relationship between dependent and independent variables, they are considering and the number of independent variables being used.\n",
    "\n"
   ]
  },
  {
   "cell_type": "code",
   "execution_count": 16,
   "metadata": {},
   "outputs": [
    {
     "data": {
      "text/plain": [
       "LinearRegression(copy_X=True, fit_intercept=True, n_jobs=None, normalize=False)"
      ]
     },
     "execution_count": 16,
     "metadata": {},
     "output_type": "execute_result"
    }
   ],
   "source": [
    "linReg = LinearRegression()\n",
    "#train the model\n",
    "linReg.fit(x_train, y_train)"
   ]
  },
  {
   "cell_type": "code",
   "execution_count": 17,
   "metadata": {},
   "outputs": [
    {
     "name": "stdout",
     "output_type": "stream",
     "text": [
      "Linear regression confidence : 0.9951208537810732\n"
     ]
    }
   ],
   "source": [
    "#test the model using score \n",
    "linReg_confidense = linReg.score(x_test, y_test)\n",
    "print(\"Linear regression confidence :\", linReg_confidense)"
   ]
  },
  {
   "cell_type": "code",
   "execution_count": 18,
   "metadata": {},
   "outputs": [
    {
     "name": "stdout",
     "output_type": "stream",
     "text": [
      "[455.40005732 209.8469129  183.75732746 ... 127.84964877  12.01667467\n",
      "  11.18922507]\n"
     ]
    }
   ],
   "source": [
    "linReg_prediction = linReg.predict(x_test)\n",
    "print(linReg_prediction)"
   ]
  },
  {
   "cell_type": "code",
   "execution_count": 19,
   "metadata": {},
   "outputs": [
    {
     "data": {
      "text/plain": [
       "array([467.69, 230.36, 186.14, ..., 128.24,  11.54,  10.77])"
      ]
     },
     "execution_count": 19,
     "metadata": {},
     "output_type": "execute_result"
    }
   ],
   "source": [
    "y_test\n"
   ]
  },
  {
   "cell_type": "code",
   "execution_count": 20,
   "metadata": {
    "scrolled": true
   },
   "outputs": [
    {
     "data": {
      "image/png": "[encoded data removed]",
      "text/plain": [
       "<Figure size 432x288 with 1 Axes>"
      ]
     },
     "metadata": {
      "needs_background": "light"
     },
     "output_type": "display_data"
    }
   ],
   "source": [
    "plt.scatter(x_test, y_test, color = \"red\")\n",
    "plt.plot(x_train, linReg.predict(x_train), color = \"green\")\n",
    "plt.title(\"Etherium price vs Predicted Price after 14 days (Training set)\")\n",
    "plt.xlabel(\"Etherium Price\")\n",
    "plt.ylabel(\"Predicted Price\")\n",
    "plt.show()"
   ]
  },
  {
   "cell_type": "markdown",
   "metadata": {},
   "source": [
    "# Saving Model & Loading Model\n"
   ]
  },
  {
   "cell_type": "code",
   "execution_count": 21,
   "metadata": {},
   "outputs": [],
   "source": [
    "import pickle\n",
    "# save the model to disk\n",
    "filename = 'ether_predictor.pkl'\n",
    "pickle.dump(linReg, open(filename, 'wb'))"
   ]
  },
  {
   "cell_type": "code",
   "execution_count": 22,
   "metadata": {},
   "outputs": [
    {
     "name": "stdout",
     "output_type": "stream",
     "text": [
      "0.9951208537810732\n"
     ]
    }
   ],
   "source": [
    "# load the model from disk\n",
    "loaded_model = pickle.load(open(filename, 'rb'))\n",
    "result = loaded_model.score(x_test, y_test)\n",
    "print(result)"
   ]
  },
  {
   "cell_type": "code",
   "execution_count": 23,
   "metadata": {},
   "outputs": [
    {
     "data": {
      "text/plain": [
       "array([455.40005732, 209.8469129 , 183.75732746, ..., 127.84964877,\n",
       "        12.01667467,  11.18922507])"
      ]
     },
     "execution_count": 23,
     "metadata": {},
     "output_type": "execute_result"
    }
   ],
   "source": [
    "loaded_model.predict(x_test)"
   ]
  },
  {
   "cell_type": "markdown",
   "metadata": {},
   "source": [
    "# THANK YOU !!!"
   ]
  }
 ],
 "metadata": {
  "kernelspec": {
   "display_name": "Python 3",
   "language": "python",
   "name": "python3"
  },
  "language_info": {
   "codemirror_mode": {
    "name": "ipython",
    "version": 3
   },
   "file_extension": ".py",
   "mimetype": "text/x-python",
   "name": "python",
   "nbconvert_exporter": "python",
   "pygments_lexer": "ipython3",
   "version": "3.7.4"
  }
 },
 "nbformat": 4,
 "nbformat_minor": 2
}
